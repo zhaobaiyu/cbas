{
 "cells": [
  {
   "cell_type": "markdown",
   "metadata": {},
   "source": [
    "# Problem:"
   ]
  },
  {
   "cell_type": "markdown",
   "metadata": {},
   "source": [
    "Design an algorithm to find the Longest Common Subsequence, Longest Common Substring between two sequences."
   ]
  },
  {
   "cell_type": "markdown",
   "metadata": {},
   "source": [
    "# Solution:"
   ]
  },
  {
   "cell_type": "markdown",
   "metadata": {},
   "source": [
    "## Longest Common Subsequence"
   ]
  },
  {
   "cell_type": "markdown",
   "metadata": {},
   "source": [
    "### Recursive Formula"
   ]
  },
  {
   "cell_type": "markdown",
   "metadata": {},
   "source": [
    "$$\n",
    "d(i,j)=\n",
    "\\begin{cases}\n",
    "0& \\text{if $i=0$ or $j=0$}\\\\\n",
    "d(i-1, j-1)& \\text{if $i,j > 0$ and $x_i = x_j$}\\\\\n",
    "max\\{d(i, j-1), d(i-1, j)\\}& \\text{if $i,j>0$ and $x_i\\neq x_j$}\n",
    "\\end{cases}\n",
    "$$"
   ]
  },
  {
   "cell_type": "markdown",
   "metadata": {},
   "source": [
    "### Preparation:"
   ]
  },
  {
   "cell_type": "code",
   "execution_count": 1,
   "metadata": {
    "collapsed": true
   },
   "outputs": [],
   "source": [
    "import numpy as np\n",
    "s1 = \"ACCGGTCGAGTGCGCGGAAGCCGGCCGAA\"\n",
    "s2 = \"GTCGTTCGGAATGCCGTTGCTCTGTAAA\""
   ]
  },
  {
   "cell_type": "markdown",
   "metadata": {},
   "source": [
    "### Computing the length of the Longest Common Subsequence"
   ]
  },
  {
   "cell_type": "code",
   "execution_count": 2,
   "metadata": {},
   "outputs": [
    {
     "name": "stdout",
     "output_type": "stream",
     "text": [
      "The length of the Longest Common Subsequence is 20\n"
     ]
    }
   ],
   "source": [
    "d = np.zeros((len(s1)+1, len(s2)+1), dtype=np.int)\n",
    "for i, x in enumerate(s1):\n",
    "    for j, y in enumerate(s2):\n",
    "        if x == y:\n",
    "            d[i+1, j+1] = d[i, j] + 1\n",
    "        elif d[i+1, j] > d[i, j+1]:\n",
    "            d[i+1, j+1] = d[i+1, j]\n",
    "        else:\n",
    "            d[i+1, j+1] = d[i, j+1]\n",
    "print(\"The length of the Longest Common Subsequence is\", d[d.shape[0]-1, d.shape[1]-1])"
   ]
  },
  {
   "cell_type": "markdown",
   "metadata": {},
   "source": [
    "### Traceback and Construct the LCS"
   ]
  },
  {
   "cell_type": "code",
   "execution_count": 3,
   "metadata": {},
   "outputs": [
    {
     "name": "stdout",
     "output_type": "stream",
     "text": [
      "The Longest Common Subsequence is CCGGTGGGCGGGCGGCCGAA\n"
     ]
    }
   ],
   "source": [
    "lcs = \"\"\n",
    "i, j = d.shape[0] - 1, d.shape[1] - 1\n",
    "while i > 0 and j > 0:\n",
    "    if d[i, j] == d[i-1, j-1] + 1:\n",
    "        lcs += s1[i-1]\n",
    "        i, j = i - 1, j - 1\n",
    "    elif d[i, j] == d[i-1, j]:\n",
    "        i -= 1\n",
    "    else:\n",
    "        j -= 1        \n",
    "lcs = lcs[::-1]\n",
    "print(\"The Longest Common Subsequence is\", lcs)"
   ]
  },
  {
   "cell_type": "markdown",
   "metadata": {},
   "source": [
    "## Longest Common Substring"
   ]
  },
  {
   "cell_type": "markdown",
   "metadata": {},
   "source": [
    "$$\n",
    "d(i,j)=\n",
    "\\begin{cases}\n",
    "0& \\text{if $i=0$ or $j=0$}\\\\\n",
    "d(i-1, j-1)& \\text{if $i,j > 0$ and $x_i = x_j$}\\\\\n",
    "0& \\text{if $i,j>0$ and $x_i\\neq x_j$}\n",
    "\\end{cases}\n",
    "$$\n",
    "\n",
    "Remember the length of Longest Common Substring and the location, it **doesn't** need traceback."
   ]
  },
  {
   "cell_type": "code",
   "execution_count": 4,
   "metadata": {},
   "outputs": [
    {
     "name": "stdout",
     "output_type": "stream",
     "text": [
      "The length of the Longest Common Substring is: 5\n",
      "The Longest Common Substring is: CGGAA\n"
     ]
    }
   ],
   "source": [
    "d = np.zeros((len(s1)+1, len(s2)+1), dtype=np.int)\n",
    "max_lcs, max_s1_loc = 0, 0\n",
    "for i, x in enumerate(s1):\n",
    "    for j, y in enumerate(s2):\n",
    "        if x == y:\n",
    "            d[i+1, j+1] = d[i, j] + 1\n",
    "            if d[i+1, j+1] > max_lcs:\n",
    "                max_lcs = d[i+1, j+1]\n",
    "                max_s1_loc = i + 1\n",
    "        else:\n",
    "            d[i+1, j+1] = 0\n",
    "print(\"The length of the Longest Common Substring is:\", max_lcs)\n",
    "print(\"The Longest Common Substring is:\", s1[max_s1_loc - max_lcs : max_s1_loc])"
   ]
  }
 ],
 "metadata": {
  "kernelspec": {
   "display_name": "Python 3",
   "language": "python",
   "name": "python3"
  },
  "language_info": {
   "codemirror_mode": {
    "name": "ipython",
    "version": 3
   },
   "file_extension": ".py",
   "mimetype": "text/x-python",
   "name": "python",
   "nbconvert_exporter": "python",
   "pygments_lexer": "ipython3",
   "version": "3.6.2"
  }
 },
 "nbformat": 4,
 "nbformat_minor": 2
}
